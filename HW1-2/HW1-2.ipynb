{
 "cells": [
  {
   "cell_type": "markdown",
   "id": "ef43214b",
   "metadata": {},
   "source": [
    "# 0. Наибольший общий делитель - 1 балл\n",
    "Напишите функцию, которая на вход принимает два целых числа, а на выходе отдает их наибольших общий делитель. \n",
    "\n",
    "Пример\n",
    "\n",
    "Ввод \n",
    "\n",
    "`lcd(10,2)`\n",
    "\n",
    "Вывод\n",
    "\n",
    "`2`\n",
    "\n",
    "Пример\n",
    "\n",
    "Ввод \n",
    "\n",
    "`lcd(10,25)`\n",
    "\n",
    "Вывод\n",
    "\n",
    "`5`"
   ]
  },
  {
   "cell_type": "code",
   "execution_count": 63,
   "id": "d227561c",
   "metadata": {},
   "outputs": [
    {
     "name": "stdout",
     "output_type": "stream",
     "text": [
      "5\n"
     ]
    }
   ],
   "source": [
    "def lcd(a, b):\n",
    "    '''функция принимает два числа и возвращает их наибольших общий делитель, вычисленный по алгоритму Евклида'''\n",
    "    while True:\n",
    "        if a != 0 and b!= 0:\n",
    "            if a > b:\n",
    "                a = a % b\n",
    "                continue\n",
    "            else:\n",
    "                b = b % a\n",
    "                continue\n",
    "        else:\n",
    "            print(a+b)\n",
    "            break\n",
    "\n",
    "lcd(10,25)"
   ]
  },
  {
   "cell_type": "markdown",
   "id": "777171f3",
   "metadata": {},
   "source": [
    "# 1. Задачка про перевод из `camel_case`'a в `snake_case` - 1.5 балла\n",
    " Напишите функцию, которая на вход принимает строку, записанную в `CamelCase`, а переводит ее в `snake_case`.\n",
    " Подсказка: идите по строке циклом, обрабатывайте каждый символ, если символ заглавный, к обработанным ранее добавляйте нижнее подчеркивание и нынешний переводите в `lower case` \n",
    " \n",
    " Пример:\n",
    "\n",
    "**Вход**: `'camelCaseVar'`\n",
    "\n",
    "**Выход**: `'camel_сase_var'`"
   ]
  },
  {
   "cell_type": "code",
   "execution_count": 62,
   "id": "5e4c1ced",
   "metadata": {},
   "outputs": [
    {
     "data": {
      "text/plain": [
       "'camel_case_var'"
      ]
     },
     "execution_count": 62,
     "metadata": {},
     "output_type": "execute_result"
    }
   ],
   "source": [
    "def case_changer(x):\n",
    "    \"\"\"функция переводит текст верблюжьего регистра в змеиный регистр\"\"\"\n",
    "    y = str()\n",
    "    for n in x:\n",
    "        if n == n.lower():\n",
    "            y += n\n",
    "        elif n == n.upper():\n",
    "            n = n.lower()\n",
    "            y += '_{}'.format(n)\n",
    "    x = y\n",
    "    return x\n",
    "            \n",
    "case_changer('camelCaseVar') "
   ]
  },
  {
   "cell_type": "markdown",
   "id": "929847a2",
   "metadata": {},
   "source": [
    "# 2. Про Поросёнка Петра - 2 балла\n",
    "На плоскости в точке `(0,0)` стоит Поросёнок Пётр. Он умеет ходить налево, направо, вверх и вниз. Расстояние его прохода в какую-либо сторону измеряется в шагах. Когда он идет вправо, его первая координата увеличивается, когда влево - уменьшается. Когда он идет вверх, его вторая координата увеличивается, а когда вниз - уменьшается.\n",
    "С клавиатуры считывается число `N` - число ходов, которые сделает Пётр. После чего на каждом шаге спрашивается, сколько шагов и в какую сторону за этот ход Пётр сделает. Так происходит, пока Пётр не осуществит все N ходов.\n",
    "Программа должна вывести, сколько шагов Пётр должен был бы сделать, чтобы кратчайшим путем прибыть из свое начальной точки `(0,0)` в свою конечную точку. \n",
    "\n",
    "Напоминание: Пётр умеет ходить только вверх-вниз, и влево-вправо, но не по диагонали.\n",
    "\n",
    "Пример ввода:\n",
    "\n",
    "Введите N: `3`\n",
    "\n",
    "Ход 1: `Вверх 1`\n",
    "\n",
    "Ход 2: `Вниз 1`\n",
    "\n",
    "Ход 3: `Вверх 1`\n",
    "\n",
    "Пример вывода:\n",
    "`Пётр находится на расстоянии 1 от (0,0)`"
   ]
  },
  {
   "cell_type": "code",
   "execution_count": 66,
   "id": "b3231431",
   "metadata": {},
   "outputs": [
    {
     "name": "stdout",
     "output_type": "stream",
     "text": [
      "Введите количество ходов, которые должен сделать Пётр: 1\n",
      "Введите, в какую сторону и сколько шагов сделает Пётр в формате 'направление{ПРОБЕЛ}число шагов': влево 2\n",
      "Петр находится на расстоянии 2 от (0,0).\n"
     ]
    }
   ],
   "source": [
    "def Peter(step_num=int(input(\"Введите количество ходов, которые должен сделать Пётр: \"))):\n",
    "    \"\"\"\n",
    "    функция принимает на вход переменные определенные пользователем:\n",
    "    1. количество ходов, которые должен сделать поросенок.\n",
    "    2. переменная(-ые) с информацией о направлении Петра и количестве шагов в этом направление\n",
    "    функция возвращает минимальное количестов шагов, которые должен сделать Петр,\n",
    "    чтобы попасть из точки (0,0) в конечную точку\n",
    "    \"\"\"\n",
    "    x = 0\n",
    "    y = 0\n",
    "    for i in range(step_num):\n",
    "        i = input(\"Введите, в какую сторону и сколько шагов сделает Пётр в формате 'направление{ПРОБЕЛ}число шагов': \")\n",
    "        i = i.split()\n",
    "        if i[0].lower() == 'вверх':\n",
    "             y += int(i[1])\n",
    "        elif i[0].lower() == 'вниз':\n",
    "             y -= int(i[1])\n",
    "        elif i[0].lower() == 'влево':\n",
    "             x -= int(i[1])\n",
    "        elif i[0].lower() == 'вправо':\n",
    "             x += int(i[1])\n",
    "        else:\n",
    "            print('Попробуйте ещё раз.')\n",
    "            continue\n",
    "    if x <= 0:\n",
    "        x = 0-x\n",
    "    if y <= 0:\n",
    "        y = 0-y\n",
    "    return print('Петр находится на расстоянии {} от (0,0).'.format(x+y))\n",
    "             \n",
    "Peter()\n",
    "    "
   ]
  },
  {
   "cell_type": "code",
   "execution_count": null,
   "id": "5fa08fd0",
   "metadata": {},
   "outputs": [],
   "source": []
  },
  {
   "cell_type": "markdown",
   "id": "818909ca",
   "metadata": {},
   "source": [
    "# 3. Sort the keys of the dictionary from a to z.  - 0.5 балла"
   ]
  },
  {
   "cell_type": "code",
   "execution_count": 97,
   "id": "b81d45f3",
   "metadata": {},
   "outputs": [
    {
     "name": "stdout",
     "output_type": "stream",
     "text": [
      "['cheesecake', 'chocolate', 'pudding', 'tiramisu']\n",
      "{'cheesecake': 4, 'chocolate': 2, 'pudding': 3, 'tiramisu': 5}\n"
     ]
    }
   ],
   "source": [
    "d_= {\"tiramisu\":5, \"chocolate\":2, \"pudding\":3, \"cheesecake\":4}\n",
    "#не понял, нужно ли вернуть только ключи или словарь с отсортированными ключами, поэтому сделал оба варианта\n",
    "def az_listsort():\n",
    "    '''функция возвращает список с отсортированными ключами словаря'''\n",
    "    new_d_list = sorted(d_)\n",
    "    return print(new_d_list)\n",
    "\n",
    "az_listsort()\n",
    "\n",
    "def az_dictsort():\n",
    "    '''функция возвращает новый словарь с отсортированными ключами оригинального словаря'''\n",
    "    new_d_dict = dict()\n",
    "    list_d_ = sorted(d_.items())\n",
    "    for k, v in list_d_:\n",
    "        new_d_dict[k]=v\n",
    "    return print(new_d_dict)\n",
    "        \n",
    "az_dictsort()"
   ]
  },
  {
   "cell_type": "markdown",
   "id": "77275ebf",
   "metadata": {},
   "source": [
    "# 4. Compare three values, return true only if 2 or more values are equal - 0.5 балла"
   ]
  },
  {
   "cell_type": "code",
   "execution_count": 99,
   "id": "d0893272",
   "metadata": {},
   "outputs": [
    {
     "name": "stdout",
     "output_type": "stream",
     "text": [
      "Enter value #1:1\n",
      "Enter value #2:1\n",
      "Enter value #3:2\n"
     ]
    },
    {
     "data": {
      "text/plain": [
       "True"
      ]
     },
     "execution_count": 99,
     "metadata": {},
     "output_type": "execute_result"
    }
   ],
   "source": [
    "def compr3(x = (input('Enter value #1:')), y = (input('Enter value #2:')), z = (input('Enter value #3:'))):\n",
    "    if x == y or y==z or z==x:\n",
    "        return True\n",
    "    \n",
    "compr3()"
   ]
  },
  {
   "cell_type": "markdown",
   "id": "895340c0",
   "metadata": {},
   "source": [
    "# 5. Given a list with pairs, sort on the sum of pairs - 0.5 балла"
   ]
  },
  {
   "cell_type": "code",
   "execution_count": 36,
   "id": "7a8971e2",
   "metadata": {},
   "outputs": [
    {
     "name": "stdout",
     "output_type": "stream",
     "text": [
      "[4, 9, 11, 12, 14]\n",
      "[(3, 1), (3, 6), (4, 7), (8, 4), (5, 9)]\n"
     ]
    }
   ],
   "source": [
    "#не понял, нужно ли вернуть новые суммы или старые пары, отсортированные по сумме элементов, поэтому два варианта\n",
    "def sum_sort1(x = [(3,6),(4,7),(5,9),(8,4),(3,1)]):\n",
    "    \"\"\"функция возвращает новый отсортированный список, состоящий из сумм пар оригинального списка\"\"\"\n",
    "    y = list()\n",
    "    for i, j in x:\n",
    "        ij = i+j\n",
    "        y.append(ij)\n",
    "    y.sort()\n",
    "    return print(y)\n",
    "\n",
    "sum_sort1()\n",
    "\n",
    "def sum_sort2(x = [(3,6),(4,7),(5,9),(8,4),(3,1)]):\n",
    "    \"\"\"\n",
    "    функция возвращает новый отсортированный список,\n",
    "    который представляет собой оригинальный список отсортированный по значению суммы его элементов\n",
    "    \"\"\"\n",
    "    sum_dict = dict()\n",
    "    y = list()\n",
    "    for n in x:\n",
    "        ij = n[0]+n[1]\n",
    "        sum_dict[ij]=n\n",
    "    sum_dict = sorted(sum_dict.items())\n",
    "    for r in range(0, len(sum_dict)):\n",
    "        y.append(sum_dict[r][1])\n",
    "    return print(y)\n",
    "    \n",
    "sum_sort2()"
   ]
  },
  {
   "cell_type": "markdown",
   "id": "be5b7018",
   "metadata": {},
   "source": [
    "# 6. Create a function that takes a list of numbers. Return the largest number in the list. - 0.5 балла"
   ]
  },
  {
   "cell_type": "code",
   "execution_count": 67,
   "id": "2ddbc7bf",
   "metadata": {},
   "outputs": [
    {
     "name": "stdout",
     "output_type": "stream",
     "text": [
      "5\n",
      "600\n",
      "1001\n"
     ]
    }
   ],
   "source": [
    "def findLargestNum(x):\n",
    "    \"\"\"функция выводит самый большой элемент из списка\"\"\"\n",
    "    return print(max(x))\n",
    "    \n",
    "findLargestNum([4, 5, 1, 3])\n",
    "\n",
    "findLargestNum([300, 200, 600, 150])\n",
    "\n",
    "findLargestNum([1000, 1001, 857, 1])"
   ]
  },
  {
   "cell_type": "markdown",
   "id": "17918763",
   "metadata": {},
   "source": [
    "# 7. Create a function that takes a string and returns the concatenated first and last character. - 0.5 балла"
   ]
  },
  {
   "cell_type": "code",
   "execution_count": 69,
   "id": "7062bfdb",
   "metadata": {},
   "outputs": [
    {
     "name": "stdout",
     "output_type": "stream",
     "text": [
      "ababab\n",
      "kiwi\n",
      "cherrycherry\n"
     ]
    }
   ],
   "source": [
    "#выполнил задание, которое описано в этой ячейке, а не в условии\n",
    "def repetition(x, y):\n",
    "    \"\"\"функция выводит строку, которая представляет собой полученный на входе текст,\n",
    "    повторенный N раз, где N - полученное на входе число\"\"\"\n",
    "    return print(x*y)\n",
    "\n",
    "repetition(\"ab\", 3)\n",
    "\n",
    "repetition(\"kiwi\", 1)\n",
    "\n",
    "repetition(\"cherry\", 2)"
   ]
  },
  {
   "cell_type": "markdown",
   "id": "5c2fe48a",
   "metadata": {},
   "source": [
    "# 8. Create a function that takes a 2D list lst returns the sum of the minimum value in each row. - 0.5 балла"
   ]
  },
  {
   "cell_type": "code",
   "execution_count": 71,
   "id": "c3232abb",
   "metadata": {},
   "outputs": [
    {
     "name": "stdout",
     "output_type": "stream",
     "text": [
      "26\n"
     ]
    }
   ],
   "source": [
    "def sum_minimums(list_array):\n",
    "    \"\"\"функция получает на вход таблицу (вложенные списки) и возвращает сумму минимальных значений её строк (списков)\"\"\"\n",
    "    summ = 0\n",
    "    for n in list_array:\n",
    "        summ += min(n)\n",
    "    return print(summ)\n",
    "\n",
    "sum_minimums([\n",
    "  [1, 2, 3, 4, 5],\n",
    "  [5, 6, 7, 8, 9],\n",
    "  [20, 21, 34, 56, 100]\n",
    "])"
   ]
  },
  {
   "cell_type": "markdown",
   "id": "88c6709f",
   "metadata": {},
   "source": [
    "# 9. Create a function to return the amount of potatoes there are in a string. - 0.5 балла"
   ]
  },
  {
   "cell_type": "code",
   "execution_count": 45,
   "id": "e2610cbd",
   "metadata": {},
   "outputs": [
    {
     "name": "stdout",
     "output_type": "stream",
     "text": [
      "1\n",
      "2\n",
      "1\n"
     ]
    }
   ],
   "source": [
    "def potatoes(kartoshka):\n",
    "    \"\"\"функция принимает на вход текст и выводит значение встречаемости строки 'potato' в нём\"\"\"\n",
    "    print(kartoshka.count('potato'))\n",
    "\n",
    "potatoes(\"potato\")\n",
    "\n",
    "potatoes(\"potatopotato\")\n",
    "\n",
    "potatoes(\"potatoapple\")"
   ]
  },
  {
   "cell_type": "markdown",
   "id": "7fb5aa44",
   "metadata": {},
   "source": [
    "# 10. Create a function that takes a list of integers as an argument and returns a unique number from that list. All numbers except unique ones have the same number of occurrences in the list. - 0.5 балла"
   ]
  },
  {
   "cell_type": "code",
   "execution_count": 72,
   "id": "a43f80e0",
   "metadata": {},
   "outputs": [
    {
     "name": "stdout",
     "output_type": "stream",
     "text": [
      "3\n",
      "2\n",
      "8\n",
      "101\n"
     ]
    }
   ],
   "source": [
    "def find_single_number(spisok):\n",
    "    \"\"\"функция принимает на вход список и выводит уникальный элемент этого списка, если таковой существует\"\"\"\n",
    "    for b in spisok:\n",
    "        if spisok.count(b) == 1:\n",
    "            return print(b)\n",
    "\n",
    "find_single_number([2, 2, 2, 3, 4, 4, 4])\n",
    "\n",
    "find_single_number([2])\n",
    "\n",
    "find_single_number([])\n",
    "\n",
    "find_single_number([7, 13, 3, 6, 5, 4, 4, 13, 5, 3, 6, 7, 6, 5, 3, 13, 4, 7, 13, 5, 7, 4, 3, 6, 8, 4, 3, 7, 5, 6, 13])\n",
    "\n",
    "find_single_number([1, 2, 3, 6, 5, 4, 4, 2, 5, 3, 6, 1, 6, 5, 3, 2, 4, 1, 2, 5, 1, 4, 3, 6, 101, 4, 3, 1, 5, 6, 2])"
   ]
  },
  {
   "cell_type": "markdown",
   "id": "0313ea52",
   "metadata": {},
   "source": [
    "# 11. Given a letter and a list of words, return whether the letter does not appear in any of the words. - 0.5 балла"
   ]
  },
  {
   "cell_type": "code",
   "execution_count": 94,
   "id": "0cb649a5",
   "metadata": {},
   "outputs": [
    {
     "name": "stdout",
     "output_type": "stream",
     "text": [
      "False\n",
      "True\n",
      "True\n"
     ]
    }
   ],
   "source": [
    "def forbidden_letter(ltr, lst):\n",
    "    '''\n",
    "    функция принимает на вход символ-букыу и список слов и проверяет, встречается ли данный элемент\n",
    "    хотя бы раз в словах списках; возвращает False, если встречается, True - если нет.\n",
    "    '''\n",
    "    vrf = bool\n",
    "    for word in lst:\n",
    "        if ltr in word:\n",
    "            vrf = False\n",
    "            print(vrf)\n",
    "            break\n",
    "    if vrf != False:\n",
    "        print(True)\n",
    "            \n",
    "forbidden_letter(\"r\", [\"rock\", \"paper\", \"scissors\"])\n",
    "\n",
    "forbidden_letter(\"a\", [\"spoon\", \"fork\", \"knife\"])\n",
    "\n",
    "forbidden_letter(\"m\", [])\n"
   ]
  },
  {
   "cell_type": "markdown",
   "id": "0a7ef5b5",
   "metadata": {},
   "source": [
    "# 12.  Define a function which create a Pattern like this one.  - 2 балла"
   ]
  },
  {
   "cell_type": "code",
   "execution_count": null,
   "id": "7617ebb7",
   "metadata": {},
   "outputs": [],
   "source": [
    "Input: 4\n",
    "Pattern:\n",
    "\n",
    " 01234\n",
    "  | |     0\n",
    " -----    1\n",
    "  | |     2\n",
    " -----    3\n",
    "  | |     4"
   ]
  },
  {
   "cell_type": "code",
   "execution_count": 77,
   "id": "5d3b0cdd",
   "metadata": {},
   "outputs": [
    {
     "name": "stdout",
     "output_type": "stream",
     "text": [
      " | |\n",
      "-----\n",
      " | |\n",
      "-----\n"
     ]
    }
   ],
   "source": [
    "#i tried ¯\\_(ツ)_/¯\n",
    "def bizzare_pattern(n):\n",
    "    for i in range(n):\n",
    "        if i % 2 == 0:\n",
    "            for j in range(n):\n",
    "                if n % 2 == 0:\n",
    "                    if j % 2 == 0:\n",
    "                        print(' ', end='')\n",
    "                    else:\n",
    "                        print('|', end='')\n",
    "        else:\n",
    "            print('\\n{}'.format('-'*(n+1)))\n",
    "            \n",
    "\n",
    "bizzare_pattern(4)"
   ]
  },
  {
   "cell_type": "markdown",
   "id": "0d5edcd1",
   "metadata": {},
   "source": [
    "# 13. Create a function that takes three numbers as arguments and returns True if it's a triangle and False if not.  - 0.5 балла"
   ]
  },
  {
   "cell_type": "code",
   "execution_count": 75,
   "id": "d867302c",
   "metadata": {},
   "outputs": [
    {
     "name": "stdout",
     "output_type": "stream",
     "text": [
      "True\n",
      "True\n",
      "False\n"
     ]
    }
   ],
   "source": [
    "def is_triangle(a, b, c):\n",
    "    \"\"\"\n",
    "    функция получает на вход список с тремя элементами-числами и проверяет, возможен ли треугольник со сторонами,\n",
    "    соответсвующими значениям элементов списка, в зависимости от чего на экран выводится значения True или False.\n",
    "    \"\"\"\n",
    "    if a+b>c and a+c>b and b+c>a:\n",
    "        return print(True)\n",
    "    else:\n",
    "        return print(False)\n",
    "\n",
    "is_triangle(2, 3, 4)\n",
    "\n",
    "is_triangle(3, 4, 5)\n",
    "\n",
    "is_triangle(4, 3, 8)"
   ]
  },
  {
   "cell_type": "markdown",
   "id": "2bdfb66e",
   "metadata": {},
   "source": [
    "# 14. Create a \"Code\" Generator that takes text as input and replaces some letter with another letter, and outputs the \"encoded\" message. Create funcs to encode and decode messages"
   ]
  },
  {
   "cell_type": "code",
   "execution_count": 76,
   "id": "0caf2b35",
   "metadata": {},
   "outputs": [
    {
     "name": "stdout",
     "output_type": "stream",
     "text": [
      "H’rt uttm cghmvu xwb ktwkot fwbosm’c dtohtrt. Jccjaz ughku wm ihqt wii cgt ugwbostq wi Wqhwm. H fjcagts A-dtjlu vohcctq hm cgt sjqz mtjq cgt Cjmmgjbutq Vjct. Joo cgwut lwltmcu fhoo dt owuc hm chlt, ohzt… ctjqu hm qjhm. Chlt cw sht.\n",
      "I’ve seen things you people wouldn’t believe. Attack ships on fire off the shoulder of Orion. I watched C-beams glitter in the dark near the Tannhauser Gate. All those moments will be lost in time, like… tears in rain. Time to die.\n"
     ]
    }
   ],
   "source": [
    "text = 'I’ve seen things you people wouldn’t believe. Attack ships on fire off the shoulder of Orion. I watched C-beams glitter in the dark near the Tannhauser Gate. All those moments will be lost in time, like… tears in rain. Time to die.'\n",
    "replacement = {'a':'j',\n",
    "              'b':'d',\n",
    "              'c':'a',\n",
    "              'd':'s',\n",
    "              'e':'t',\n",
    "              'f':'i',\n",
    "              'g':'v',\n",
    "              'h':'g',\n",
    "              'i':'h',\n",
    "              'j':'e',\n",
    "              'k':'z',\n",
    "              'l':'o',\n",
    "              'm':'l',\n",
    "              'n':'m',\n",
    "              'o':'w',\n",
    "              'p':'k',\n",
    "              'q':'p',\n",
    "              'r':'q',\n",
    "              's':'u',\n",
    "              't':'c',\n",
    "              'u':'b',\n",
    "              'v':'r',\n",
    "              'w':'f',\n",
    "              'x':'n',\n",
    "              'y':'x',\n",
    "              'z':'y'}\n",
    "\n",
    "\n",
    "def encode(orig):\n",
    "    '''\n",
    "    функция принимает на вход текст (строку) и с помощью словаря replacement меняет значения элементов строки\n",
    "    на соответствующие новые значения\n",
    "    '''\n",
    "    og_lst = list(orig)\n",
    "    global tr\n",
    "    tr = str()\n",
    "    for b in og_lst:\n",
    "        if b == b.lower():\n",
    "            if b in replacement.keys():\n",
    "                tr = tr+replacement[b]\n",
    "            else:\n",
    "                tr = tr+b\n",
    "        else:\n",
    "            c = b.lower()\n",
    "            if c in replacement.keys():\n",
    "                tr = tr+replacement[c].upper()\n",
    "    return print(tr)\n",
    "\n",
    "def decode(dorig):\n",
    "    '''\n",
    "    функция принимает на вход текст (строку) и с помощью словаря replacement меняет обратно значения элементов строки\n",
    "    на соответствующие старые значения\n",
    "    '''\n",
    "    d_replacement=dict(reversed(item) for item in replacement.items())\n",
    "    d_og_lst = list(dorig)\n",
    "    dtr = str()\n",
    "    for d in d_og_lst:\n",
    "        if d == d.lower():\n",
    "            if d in d_replacement.keys():\n",
    "                dtr = dtr+d_replacement[d]\n",
    "            else:\n",
    "                dtr = dtr+d\n",
    "        else:\n",
    "            a = d.lower()\n",
    "            if a in d_replacement.keys():\n",
    "                dtr = dtr+d_replacement[a].upper()\n",
    "    return print(dtr)\n",
    "\n",
    "encode(text)\n",
    "decode(tr)"
   ]
  },
  {
   "cell_type": "code",
   "execution_count": null,
   "id": "37842e57",
   "metadata": {},
   "outputs": [],
   "source": []
  },
  {
   "cell_type": "code",
   "execution_count": null,
   "id": "e328cdd8",
   "metadata": {},
   "outputs": [],
   "source": []
  }
 ],
 "metadata": {
  "kernelspec": {
   "display_name": "Python 3",
   "language": "python",
   "name": "python3"
  },
  "language_info": {
   "codemirror_mode": {
    "name": "ipython",
    "version": 3
   },
   "file_extension": ".py",
   "mimetype": "text/x-python",
   "name": "python",
   "nbconvert_exporter": "python",
   "pygments_lexer": "ipython3",
   "version": "3.8.8"
  }
 },
 "nbformat": 4,
 "nbformat_minor": 5
}
